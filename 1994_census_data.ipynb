{
  "nbformat": 4,
  "nbformat_minor": 0,
  "metadata": {
    "colab": {
      "name": "1994 census data.ipynb",
      "provenance": []
    },
    "kernelspec": {
      "name": "python3",
      "display_name": "Python 3"
    },
    "language_info": {
      "name": "python"
    }
  },
  "cells": [
    {
      "cell_type": "code",
      "metadata": {
        "id": "L04ZLzrSJ7Q5"
      },
      "source": [
        "import pandas as pd\n",
        "import numpy as np\n",
        "from pandas import DataFrame as df"
      ],
      "execution_count": null,
      "outputs": []
    },
    {
      "cell_type": "code",
      "metadata": {
        "id": "CjsM-PAbQQUs"
      },
      "source": [
        "from google.colab import drive\n",
        "drive.mount('/content/drive', force_remount=True )"
      ],
      "execution_count": null,
      "outputs": []
    },
    {
      "cell_type": "code",
      "metadata": {
        "colab": {
          "base_uri": "https://localhost:8080/"
        },
        "id": "9FpcjLyJRwlm",
        "outputId": "64bf29d5-f765-4cf6-b853-ba603176b3fb"
      },
      "source": [
        "path = \"/content/adult.data.csv\"\n",
        "df = pd.read_csv(path)\n",
        "df.describe"
      ],
      "execution_count": null,
      "outputs": [
        {
          "output_type": "execute_result",
          "data": {
            "text/plain": [
              "<bound method NDFrame.describe of        age         workclass  fnlwgt  ... hours-per-week  native-country salary\n",
              "0       39         State-gov   77516  ...             40   United-States  <=50K\n",
              "1       50  Self-emp-not-inc   83311  ...             13   United-States  <=50K\n",
              "2       38           Private  215646  ...             40   United-States  <=50K\n",
              "3       53           Private  234721  ...             40   United-States  <=50K\n",
              "4       28           Private  338409  ...             40            Cuba  <=50K\n",
              "...    ...               ...     ...  ...            ...             ...    ...\n",
              "32556   27           Private  257302  ...             38   United-States  <=50K\n",
              "32557   40           Private  154374  ...             40   United-States   >50K\n",
              "32558   58           Private  151910  ...             40   United-States  <=50K\n",
              "32559   22           Private  201490  ...             20   United-States  <=50K\n",
              "32560   52      Self-emp-inc  287927  ...             40   United-States   >50K\n",
              "\n",
              "[32561 rows x 15 columns]>"
            ]
          },
          "metadata": {
            "tags": []
          },
          "execution_count": 20
        }
      ]
    },
    {
      "cell_type": "code",
      "metadata": {
        "id": "vLqxvXylTiAS"
      },
      "source": [
        "df.head(10 )"
      ],
      "execution_count": null,
      "outputs": []
    },
    {
      "cell_type": "code",
      "metadata": {
        "colab": {
          "base_uri": "https://localhost:8080/"
        },
        "id": "-y1hIAcbZzNE",
        "outputId": "e8e3e971-568b-4a1b-cce2-f8e2f330f1fd"
      },
      "source": [
        "df.sex.value_counts()"
      ],
      "execution_count": null,
      "outputs": [
        {
          "output_type": "execute_result",
          "data": {
            "text/plain": [
              "Male      21790\n",
              "Female    10771\n",
              "Name: sex, dtype: int64"
            ]
          },
          "metadata": {
            "tags": []
          },
          "execution_count": 6
        }
      ]
    },
    {
      "cell_type": "code",
      "metadata": {
        "colab": {
          "base_uri": "https://localhost:8080/"
        },
        "id": "19CYdTLca0Dd",
        "outputId": "a453d62f-dca4-45e3-9c8d-010873ea3de9"
      },
      "source": [
        "mean_age = df.age.mean()\n",
        "round(mean_age, 1)"
      ],
      "execution_count": null,
      "outputs": [
        {
          "output_type": "execute_result",
          "data": {
            "text/plain": [
              "38.6"
            ]
          },
          "metadata": {
            "tags": []
          },
          "execution_count": 115
        }
      ]
    },
    {
      "cell_type": "markdown",
      "metadata": {
        "id": "be9jHETQXUYX"
      },
      "source": [
        "How many people of each race are represented in this dataset? This should be a list of integers. (race column)"
      ]
    },
    {
      "cell_type": "code",
      "metadata": {
        "colab": {
          "base_uri": "https://localhost:8080/"
        },
        "id": "yBZbMeZbXPA-",
        "outputId": "684a65e2-b0e7-4229-dd87-f56b28e18ca7"
      },
      "source": [
        "df.race.value_counts()"
      ],
      "execution_count": null,
      "outputs": [
        {
          "output_type": "execute_result",
          "data": {
            "text/plain": [
              "White                 27816\n",
              "Black                  3124\n",
              "Asian-Pac-Islander     1039\n",
              "Amer-Indian-Eskimo      311\n",
              "Other                   271\n",
              "Name: race, dtype: int64"
            ]
          },
          "metadata": {
            "tags": []
          },
          "execution_count": 8
        }
      ]
    },
    {
      "cell_type": "markdown",
      "metadata": {
        "id": "CvWBF7duX3Ze"
      },
      "source": [
        "What is the average age of men?"
      ]
    },
    {
      "cell_type": "code",
      "metadata": {
        "colab": {
          "base_uri": "https://localhost:8080/"
        },
        "id": "NnYoyGDHX26I",
        "outputId": "4d2397f0-88b1-468b-e764-bdeef8acaa67"
      },
      "source": [
        "df.columns"
      ],
      "execution_count": null,
      "outputs": [
        {
          "output_type": "execute_result",
          "data": {
            "text/plain": [
              "Index(['age', 'workclass', 'fnlwgt', 'education', 'education-num',\n",
              "       'marital-status', 'occupation', 'relationship', 'race', 'sex',\n",
              "       'capital-gain', 'capital-loss', 'hours-per-week', 'native-country',\n",
              "       'salary'],\n",
              "      dtype='object')"
            ]
          },
          "metadata": {
            "tags": []
          },
          "execution_count": 9
        }
      ]
    },
    {
      "cell_type": "markdown",
      "metadata": {
        "id": "6xaUQAwSkvxy"
      },
      "source": [
        "What is the percentage of people who have a Bachelor's degree?\n"
      ]
    },
    {
      "cell_type": "markdown",
      "metadata": {
        "id": "dZB6h5i_iXcB"
      },
      "source": [
        "What percentage of people with advanced education (Bachelors, Masters, or Doctorate) make more than 50K?"
      ]
    },
    {
      "cell_type": "code",
      "metadata": {
        "colab": {
          "base_uri": "https://localhost:8080/"
        },
        "id": "QkGik1FIikC_",
        "outputId": "7fe5fea0-72dd-4a1f-e45c-c7ff1174f045"
      },
      "source": [
        "df.education.value_counts()"
      ],
      "execution_count": null,
      "outputs": [
        {
          "output_type": "execute_result",
          "data": {
            "text/plain": [
              "HS-grad         10501\n",
              "Some-college     7291\n",
              "Bachelors        5355\n",
              "Masters          1723\n",
              "Assoc-voc        1382\n",
              "11th             1175\n",
              "Assoc-acdm       1067\n",
              "10th              933\n",
              "7th-8th           646\n",
              "Prof-school       576\n",
              "9th               514\n",
              "12th              433\n",
              "Doctorate         413\n",
              "5th-6th           333\n",
              "1st-4th           168\n",
              "Preschool          51\n",
              "Name: education, dtype: int64"
            ]
          },
          "metadata": {
            "tags": []
          },
          "execution_count": 10
        }
      ]
    },
    {
      "cell_type": "code",
      "metadata": {
        "colab": {
          "base_uri": "https://localhost:8080/"
        },
        "id": "GGMD2975gZSO",
        "outputId": "79e17f14-9ea7-4160-bb44-a216420efd40"
      },
      "source": [
        "edu_per = df.education.value_counts()\n",
        "percentage = (edu_per['Bachelors']/edu_per.sum())*100\n",
        "percentage\n",
        "#per = (edu_per/edu_per.sum())*100\n"
      ],
      "execution_count": null,
      "outputs": [
        {
          "output_type": "execute_result",
          "data": {
            "text/plain": [
              "16.44605509658794"
            ]
          },
          "metadata": {
            "tags": []
          },
          "execution_count": 11
        }
      ]
    },
    {
      "cell_type": "code",
      "metadata": {
        "colab": {
          "base_uri": "https://localhost:8080/"
        },
        "id": "--X6p45X6a-w",
        "outputId": "e04bb898-4695-49b8-df36-f216e0fbe77a"
      },
      "source": [
        "df.groupby('salary').size()"
      ],
      "execution_count": null,
      "outputs": [
        {
          "output_type": "execute_result",
          "data": {
            "text/plain": [
              "salary\n",
              "<=50K    24720\n",
              ">50K      7841\n",
              "dtype: int64"
            ]
          },
          "metadata": {
            "tags": []
          },
          "execution_count": 16
        }
      ]
    },
    {
      "cell_type": "code",
      "metadata": {
        "colab": {
          "base_uri": "https://localhost:8080/"
        },
        "id": "IPiDk2fOG5-B",
        "outputId": "6f322743-0863-4130-85c4-a4e3d0f26f34"
      },
      "source": [
        "len(higher_education)"
      ],
      "execution_count": null,
      "outputs": [
        {
          "output_type": "execute_result",
          "data": {
            "text/plain": [
              "7491"
            ]
          },
          "metadata": {
            "tags": []
          },
          "execution_count": 65
        }
      ]
    },
    {
      "cell_type": "code",
      "metadata": {
        "colab": {
          "base_uri": "https://localhost:8080/"
        },
        "id": "FqOeoGMOHFZU",
        "outputId": "1fb74694-ac68-49f5-d00f-5d1d6bd79d11"
      },
      "source": [
        "len(a['education']) - len(higher_education)"
      ],
      "execution_count": null,
      "outputs": [
        {
          "output_type": "execute_result",
          "data": {
            "text/plain": [
              "25070"
            ]
          },
          "metadata": {
            "tags": []
          },
          "execution_count": 68
        }
      ]
    },
    {
      "cell_type": "code",
      "metadata": {
        "colab": {
          "base_uri": "https://localhost:8080/"
        },
        "id": "fOr5d7hj-t9J",
        "outputId": "b181ae9f-0b0a-4b44-a401-68667376fb11"
      },
      "source": [
        "a = df[['education', 'salary']]\n",
        "total = len(a[a['salary'] == '>50K'])\n",
        "total"
      ],
      "execution_count": null,
      "outputs": [
        {
          "output_type": "execute_result",
          "data": {
            "text/plain": [
              "7841"
            ]
          },
          "metadata": {
            "tags": []
          },
          "execution_count": 63
        }
      ]
    },
    {
      "cell_type": "markdown",
      "metadata": {
        "id": "4uBhnG2eAnv2"
      },
      "source": [
        "What percentage of people without advanced education make more than 50K?"
      ]
    },
    {
      "cell_type": "code",
      "metadata": {
        "colab": {
          "base_uri": "https://localhost:8080/"
        },
        "id": "6ls0Rhwh9ZdJ",
        "outputId": "a6642396-37fd-4eda-c216-c978c708e153"
      },
      "source": [
        "higher_education = [df[df['education'] == 'Bachelors'], df[df['education'] == 'Masters'], df[df['education'] == 'Doctorate']]\n",
        "higher_education = pd.concat(higher_education)\n",
        "percentage = (len(higher_education[higher_education['salary'] == '>50K'])/len(higher_education)) * 100\n",
        "\n",
        "round(percentage, 1)\n"
      ],
      "execution_count": null,
      "outputs": [
        {
          "output_type": "execute_result",
          "data": {
            "text/plain": [
              "46.5"
            ]
          },
          "metadata": {
            "tags": []
          },
          "execution_count": 118
        }
      ]
    },
    {
      "cell_type": "code",
      "metadata": {
        "colab": {
          "base_uri": "https://localhost:8080/"
        },
        "id": "Qd8pK4bxHl5_",
        "outputId": "a34179dd-3874-4414-ae66-a0eb68d986bc"
      },
      "source": [
        "without_advanced = len(a[a['salary'] == '>50K']) - len(higher_education[higher_education['salary'] == '>50K'])\n",
        "Total = len(a['education']) - len(higher_education)\n",
        "percentage_other_education = (without_advanced / Total) * 100\n",
        "round(percentage_other_education, 1)"
      ],
      "execution_count": null,
      "outputs": [
        {
          "output_type": "execute_result",
          "data": {
            "text/plain": [
              "17.4"
            ]
          },
          "metadata": {
            "tags": []
          },
          "execution_count": 75
        }
      ]
    },
    {
      "cell_type": "markdown",
      "metadata": {
        "id": "C2zHZThqI-Ot"
      },
      "source": [
        "What is the minimum number of hours a person works per week?"
      ]
    },
    {
      "cell_type": "code",
      "metadata": {
        "colab": {
          "base_uri": "https://localhost:8080/"
        },
        "id": "eUUsv64UJCBd",
        "outputId": "ea38810a-0578-45c7-a357-8382037c2149"
      },
      "source": [
        "df.columns"
      ],
      "execution_count": null,
      "outputs": [
        {
          "output_type": "execute_result",
          "data": {
            "text/plain": [
              "Index(['age', 'workclass', 'fnlwgt', 'education', 'education-num',\n",
              "       'marital-status', 'occupation', 'relationship', 'race', 'sex',\n",
              "       'capital-gain', 'capital-loss', 'hours-per-week', 'native-country',\n",
              "       'salary'],\n",
              "      dtype='object')"
            ]
          },
          "metadata": {
            "tags": []
          },
          "execution_count": 78
        }
      ]
    },
    {
      "cell_type": "markdown",
      "metadata": {
        "id": "YhGJhJtOnBse"
      },
      "source": [
        ""
      ]
    },
    {
      "cell_type": "code",
      "metadata": {
        "colab": {
          "base_uri": "https://localhost:8080/"
        },
        "id": "T_QBlNzaehoo",
        "outputId": "7d981c69-066f-48fa-a359-39fdab781328"
      },
      "source": [
        "ave_sex = df[['age', 'sex']]\n",
        "man_avg = ave_sex.loc[ave_sex['sex'] == 'Male']\n",
        "means = man_avg.age.mean()\n",
        "means"
      ],
      "execution_count": null,
      "outputs": [
        {
          "output_type": "execute_result",
          "data": {
            "text/plain": [
              "39.43354749885268"
            ]
          },
          "metadata": {
            "tags": []
          },
          "execution_count": 12
        }
      ]
    },
    {
      "cell_type": "markdown",
      "metadata": {
        "id": "W-MB78-bLl3H"
      },
      "source": [
        "What percentage of the people who work the minimum number of hours per week have a salary of more than 50K?"
      ]
    },
    {
      "cell_type": "code",
      "metadata": {
        "id": "8gJE_zSYKuhx"
      },
      "source": [
        "lowest = df['hours-per-week'].min()"
      ],
      "execution_count": null,
      "outputs": []
    },
    {
      "cell_type": "code",
      "metadata": {
        "colab": {
          "base_uri": "https://localhost:8080/"
        },
        "id": "yYt1uWvaLjHh",
        "outputId": "c8bc570f-147c-4dc2-b480-ae0f02b6c246"
      },
      "source": [
        "min_hour = df[df['hours-per-week'] == lowest]\n",
        "total = min_hour[min_hour['salary'] == '>50K']\n",
        "p = (len(total)/len(min_hour)) * 100\n",
        "p"
      ],
      "execution_count": null,
      "outputs": [
        {
          "output_type": "execute_result",
          "data": {
            "text/plain": [
              "10.0"
            ]
          },
          "metadata": {
            "tags": []
          },
          "execution_count": 96
        }
      ]
    },
    {
      "cell_type": "markdown",
      "metadata": {
        "id": "_eW72GytQeBb"
      },
      "source": [
        "What country has the highest percentage of people that earn >50K?"
      ]
    },
    {
      "cell_type": "code",
      "metadata": {
        "id": "BK1l28kUQdb1"
      },
      "source": [
        "df.groupby('native-country').size()"
      ],
      "execution_count": null,
      "outputs": []
    },
    {
      "cell_type": "code",
      "metadata": {
        "colab": {
          "base_uri": "https://localhost:8080/",
          "height": 35
        },
        "id": "4SzK51gSdl6z",
        "outputId": "a2e952f5-b00b-43be-a52b-0a1989b29b75"
      },
      "source": [
        "b = df[['native-country', 'salary']]\n",
        "most_wealthy = (df[df['salary'] == '>50K']['native-country'].value_counts() / df['native-country'].value_counts()) * 100\n",
        "most_wealthy\n",
        "best = most_wealthy.idxmax()\n",
        "best"
      ],
      "execution_count": null,
      "outputs": [
        {
          "output_type": "execute_result",
          "data": {
            "application/vnd.google.colaboratory.intrinsic+json": {
              "type": "string"
            },
            "text/plain": [
              "'Iran'"
            ]
          },
          "metadata": {
            "tags": []
          },
          "execution_count": 103
        }
      ]
    },
    {
      "cell_type": "markdown",
      "metadata": {
        "id": "jpY8sbmMgdy3"
      },
      "source": [
        "Identify the most popular occupation for those who earn >50K in India."
      ]
    },
    {
      "cell_type": "code",
      "metadata": {
        "colab": {
          "base_uri": "https://localhost:8080/",
          "height": 35
        },
        "id": "1kQyJ4nmgiRv",
        "outputId": "93ef4c91-ad61-4915-af4f-d7cbff7df37f"
      },
      "source": [
        "indiana = df[df['native-country'] == 'India']\n",
        "indiana = indiana[indiana['salary'] == '>50K']\n",
        "nan = indiana['occupation'].value_counts().idxmax()\n",
        "nan"
      ],
      "execution_count": null,
      "outputs": [
        {
          "output_type": "execute_result",
          "data": {
            "application/vnd.google.colaboratory.intrinsic+json": {
              "type": "string"
            },
            "text/plain": [
              "'Prof-specialty'"
            ]
          },
          "metadata": {
            "tags": []
          },
          "execution_count": 113
        }
      ]
    }
  ]
}